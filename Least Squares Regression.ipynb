{
 "cells": [
  {
   "cell_type": "code",
   "execution_count": 6,
   "metadata": {
    "collapsed": false,
    "scrolled": true
   },
   "outputs": [
    {
     "name": "stdout",
     "output_type": "stream",
     "text": [
      "(18, 2)\n"
     ]
    },
    {
     "data": {
      "image/png": "[encoded data removed]",
      "text/plain": [
       "<matplotlib.figure.Figure at 0x1172e2ba8>"
      ]
     },
     "metadata": {},
     "output_type": "display_data"
    }
   ],
   "source": [
    "''' Least Square Regression using Matrix Algebra\n",
    "Input a series of (x,y) data pairs, then compute the scalar values\n",
    "for slope and intercept that minimize the sum of the variances. \n",
    "\n",
    "Problem is of the form Ax = B, see http://math.mit.edu/~gs/linearalgebra/ila0403.pdf\n",
    "where A is a 2xn matrix with ones in the first column\n",
    "and the x coordinates of the data pairs in the second column\n",
    "\n",
    "b is the y coordinates of the data pairs\n",
    "\n",
    "x is the solution, if a line fits all data points,\n",
    "betaHat is the solution that minimizes the error\n",
    "'''\n",
    "\n",
    "import numpy as np\n",
    "import matplotlib.pyplot as plt\n",
    "\n",
    "\n",
    "input = np.array([\n",
    "    [1, 1.5],\n",
    "    [1.5, 3],\n",
    "    [2, 2],\n",
    "    [2.1, 2.7],\n",
    "    [3.5, 2.1],\n",
    "    [2.1, 2.9],\n",
    "    [.5, .7],\n",
    "    [1, 1.8],\n",
    "    [2, 0],\n",
    "    [1.2, 1.7],\n",
    "    [1.7, 3.2],\n",
    "    [2, 2],\n",
    "    [2.1, 2],\n",
    "    [2.5, 2.1],\n",
    "    [2.1, 2],\n",
    "    [.5, .7],\n",
    "    [1, 1],\n",
    "    [2, 0]\n",
    "                 ])\n",
    "\n",
    "''' number of data points   '''\n",
    "m = np.shape(input)[0]\n",
    "print (np.shape(input))\n",
    "''' A is an nx2 matrix with 1s in first column,  and the x  \n",
    "coordinates in the second column'''\n",
    "A = np.matrix([np.ones(m), input[:,0]]).T\n",
    "\n",
    "''' b is a matrix with   '''\n",
    "b = np.matrix(input[:,1]).T\n",
    "\n",
    "'''betaHat is the best x, when no solution fits all data points'''\n",
    "betaHat = np.linalg.inv(A.T.dot(A)).dot(A.T).dot(b)\n",
    "\n",
    "plt.figure(1)\n",
    "xx = np.linspace(0, 5, 2)\n",
    "yy = np.array(betaHat[0] + betaHat[1] * xx)\n",
    "plt.plot(xx, yy.T, color='b')\n",
    "plt.scatter(input[:,0], input[:,1], color='r')\n",
    "plt.show()\n",
    "\n"
   ]
  },
  {
   "cell_type": "code",
   "execution_count": null,
   "metadata": {
    "collapsed": true
   },
   "outputs": [],
   "source": []
  },
  {
   "cell_type": "code",
   "execution_count": null,
   "metadata": {
    "collapsed": true
   },
   "outputs": [],
   "source": []
  }
 ],
 "metadata": {
  "kernelspec": {
   "display_name": "Python 3",
   "language": "python",
   "name": "python3"
  },
  "language_info": {
   "codemirror_mode": {
    "name": "ipython",
    "version": 3
   },
   "file_extension": ".py",
   "mimetype": "text/x-python",
   "name": "python",
   "nbconvert_exporter": "python",
   "pygments_lexer": "ipython3",
   "version": "3.6.0"
  }
 },
 "nbformat": 4,
 "nbformat_minor": 2
}
